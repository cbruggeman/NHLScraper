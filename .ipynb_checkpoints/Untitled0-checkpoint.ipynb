{
 "metadata": {
  "name": "",
  "signature": "sha256:bdaad79e8658be76fca00309138db38b5c141a476c30fa1cd803ac8487c5a0d0"
 },
 "nbformat": 3,
 "nbformat_minor": 0,
 "worksheets": []
}